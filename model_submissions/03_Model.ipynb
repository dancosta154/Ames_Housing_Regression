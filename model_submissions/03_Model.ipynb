{
 "cells": [
  {
   "cell_type": "code",
   "execution_count": 1,
   "id": "7c9e4598-6c95-4b36-88fc-96396c08cf12",
   "metadata": {},
   "outputs": [],
   "source": [
    "# import libraries\n",
    "import pandas as pd\n",
    "import numpy as np\n",
    "import matplotlib.pyplot as plt\n",
    "import seaborn as sns\n",
    "\n",
    "from sklearn.linear_model import LinearRegression\n",
    "from sklearn.model_selection import train_test_split, cross_val_score\n",
    "from sklearn.preprocessing import StandardScaler, PolynomialFeatures"
   ]
  },
  {
   "cell_type": "markdown",
   "id": "21844689-d1fb-4acf-b418-a083378ea37a",
   "metadata": {},
   "source": [
    "#### Read in both Training CSV and Test CSV for Kaggle"
   ]
  },
  {
   "cell_type": "code",
   "execution_count": 2,
   "id": "7ba65c5d-a53c-4485-8bd9-a34ab9a448f3",
   "metadata": {},
   "outputs": [],
   "source": [
    "# Used in Kaggle submission\n",
    "modelnum = 'three'"
   ]
  },
  {
   "cell_type": "code",
   "execution_count": 3,
   "id": "a14afeff-2750-4e1a-a451-96235c40458f",
   "metadata": {
    "tags": []
   },
   "outputs": [
    {
     "data": {
      "text/html": [
       "<div>\n",
       "<style scoped>\n",
       "    .dataframe tbody tr th:only-of-type {\n",
       "        vertical-align: middle;\n",
       "    }\n",
       "\n",
       "    .dataframe tbody tr th {\n",
       "        vertical-align: top;\n",
       "    }\n",
       "\n",
       "    .dataframe thead th {\n",
       "        text-align: right;\n",
       "    }\n",
       "</style>\n",
       "<table border=\"1\" class=\"dataframe\">\n",
       "  <thead>\n",
       "    <tr style=\"text-align: right;\">\n",
       "      <th></th>\n",
       "      <th>1st Flr SF</th>\n",
       "      <th>2nd Flr SF</th>\n",
       "      <th>3Ssn Porch</th>\n",
       "      <th>Alley</th>\n",
       "      <th>Bedroom AbvGr</th>\n",
       "      <th>Bldg Type</th>\n",
       "      <th>Bsmt Cond</th>\n",
       "      <th>Bsmt Exposure</th>\n",
       "      <th>Bsmt Full Bath</th>\n",
       "      <th>Bsmt Half Bath</th>\n",
       "      <th>...</th>\n",
       "      <th>SalePrice</th>\n",
       "      <th>Screen Porch</th>\n",
       "      <th>Street</th>\n",
       "      <th>TotRms AbvGrd</th>\n",
       "      <th>Total Bsmt SF</th>\n",
       "      <th>Utilities</th>\n",
       "      <th>Wood Deck SF</th>\n",
       "      <th>Year Built</th>\n",
       "      <th>Year Remod/Add</th>\n",
       "      <th>Yr Sold</th>\n",
       "    </tr>\n",
       "  </thead>\n",
       "  <tbody>\n",
       "    <tr>\n",
       "      <th>0</th>\n",
       "      <td>725</td>\n",
       "      <td>754</td>\n",
       "      <td>0</td>\n",
       "      <td>NaN</td>\n",
       "      <td>3</td>\n",
       "      <td>1Fam</td>\n",
       "      <td>TA</td>\n",
       "      <td>No</td>\n",
       "      <td>0.0</td>\n",
       "      <td>0.0</td>\n",
       "      <td>...</td>\n",
       "      <td>130500</td>\n",
       "      <td>0</td>\n",
       "      <td>Pave</td>\n",
       "      <td>6</td>\n",
       "      <td>725.0</td>\n",
       "      <td>AllPub</td>\n",
       "      <td>0</td>\n",
       "      <td>1976</td>\n",
       "      <td>2005</td>\n",
       "      <td>2010</td>\n",
       "    </tr>\n",
       "    <tr>\n",
       "      <th>1</th>\n",
       "      <td>913</td>\n",
       "      <td>1209</td>\n",
       "      <td>0</td>\n",
       "      <td>NaN</td>\n",
       "      <td>4</td>\n",
       "      <td>1Fam</td>\n",
       "      <td>TA</td>\n",
       "      <td>No</td>\n",
       "      <td>1.0</td>\n",
       "      <td>0.0</td>\n",
       "      <td>...</td>\n",
       "      <td>220000</td>\n",
       "      <td>0</td>\n",
       "      <td>Pave</td>\n",
       "      <td>8</td>\n",
       "      <td>913.0</td>\n",
       "      <td>AllPub</td>\n",
       "      <td>0</td>\n",
       "      <td>1996</td>\n",
       "      <td>1997</td>\n",
       "      <td>2009</td>\n",
       "    </tr>\n",
       "    <tr>\n",
       "      <th>2</th>\n",
       "      <td>1057</td>\n",
       "      <td>0</td>\n",
       "      <td>0</td>\n",
       "      <td>NaN</td>\n",
       "      <td>3</td>\n",
       "      <td>1Fam</td>\n",
       "      <td>TA</td>\n",
       "      <td>No</td>\n",
       "      <td>1.0</td>\n",
       "      <td>0.0</td>\n",
       "      <td>...</td>\n",
       "      <td>109000</td>\n",
       "      <td>0</td>\n",
       "      <td>Pave</td>\n",
       "      <td>5</td>\n",
       "      <td>1057.0</td>\n",
       "      <td>AllPub</td>\n",
       "      <td>0</td>\n",
       "      <td>1953</td>\n",
       "      <td>2007</td>\n",
       "      <td>2010</td>\n",
       "    </tr>\n",
       "    <tr>\n",
       "      <th>3</th>\n",
       "      <td>744</td>\n",
       "      <td>700</td>\n",
       "      <td>0</td>\n",
       "      <td>NaN</td>\n",
       "      <td>3</td>\n",
       "      <td>1Fam</td>\n",
       "      <td>TA</td>\n",
       "      <td>No</td>\n",
       "      <td>0.0</td>\n",
       "      <td>0.0</td>\n",
       "      <td>...</td>\n",
       "      <td>174000</td>\n",
       "      <td>0</td>\n",
       "      <td>Pave</td>\n",
       "      <td>7</td>\n",
       "      <td>384.0</td>\n",
       "      <td>AllPub</td>\n",
       "      <td>100</td>\n",
       "      <td>2006</td>\n",
       "      <td>2007</td>\n",
       "      <td>2010</td>\n",
       "    </tr>\n",
       "    <tr>\n",
       "      <th>4</th>\n",
       "      <td>831</td>\n",
       "      <td>614</td>\n",
       "      <td>0</td>\n",
       "      <td>NaN</td>\n",
       "      <td>3</td>\n",
       "      <td>1Fam</td>\n",
       "      <td>Gd</td>\n",
       "      <td>No</td>\n",
       "      <td>0.0</td>\n",
       "      <td>0.0</td>\n",
       "      <td>...</td>\n",
       "      <td>138500</td>\n",
       "      <td>0</td>\n",
       "      <td>Pave</td>\n",
       "      <td>6</td>\n",
       "      <td>676.0</td>\n",
       "      <td>AllPub</td>\n",
       "      <td>0</td>\n",
       "      <td>1900</td>\n",
       "      <td>1993</td>\n",
       "      <td>2010</td>\n",
       "    </tr>\n",
       "  </tbody>\n",
       "</table>\n",
       "<p>5 rows × 81 columns</p>\n",
       "</div>"
      ],
      "text/plain": [
       "   1st Flr SF  2nd Flr SF  3Ssn Porch Alley  Bedroom AbvGr Bldg Type  \\\n",
       "0         725         754           0   NaN              3      1Fam   \n",
       "1         913        1209           0   NaN              4      1Fam   \n",
       "2        1057           0           0   NaN              3      1Fam   \n",
       "3         744         700           0   NaN              3      1Fam   \n",
       "4         831         614           0   NaN              3      1Fam   \n",
       "\n",
       "  Bsmt Cond Bsmt Exposure  Bsmt Full Bath  Bsmt Half Bath  ... SalePrice  \\\n",
       "0        TA            No             0.0             0.0  ...    130500   \n",
       "1        TA            No             1.0             0.0  ...    220000   \n",
       "2        TA            No             1.0             0.0  ...    109000   \n",
       "3        TA            No             0.0             0.0  ...    174000   \n",
       "4        Gd            No             0.0             0.0  ...    138500   \n",
       "\n",
       "   Screen Porch  Street  TotRms AbvGrd Total Bsmt SF Utilities Wood Deck SF  \\\n",
       "0             0    Pave              6         725.0    AllPub            0   \n",
       "1             0    Pave              8         913.0    AllPub            0   \n",
       "2             0    Pave              5        1057.0    AllPub            0   \n",
       "3             0    Pave              7         384.0    AllPub          100   \n",
       "4             0    Pave              6         676.0    AllPub            0   \n",
       "\n",
       "  Year Built Year Remod/Add Yr Sold  \n",
       "0       1976           2005    2010  \n",
       "1       1996           1997    2009  \n",
       "2       1953           2007    2010  \n",
       "3       2006           2007    2010  \n",
       "4       1900           1993    2010  \n",
       "\n",
       "[5 rows x 81 columns]"
      ]
     },
     "execution_count": 3,
     "metadata": {},
     "output_type": "execute_result"
    }
   ],
   "source": [
    "# read in Training csv\n",
    "df = pd.read_csv('../datasets/train.csv')\n",
    "df = df.reindex(sorted(df.columns), axis=1)\n",
    "df.head()"
   ]
  },
  {
   "cell_type": "code",
   "execution_count": 4,
   "id": "5ff0343a-e30f-4d96-89e6-de1b14757349",
   "metadata": {},
   "outputs": [
    {
     "data": {
      "text/html": [
       "<div>\n",
       "<style scoped>\n",
       "    .dataframe tbody tr th:only-of-type {\n",
       "        vertical-align: middle;\n",
       "    }\n",
       "\n",
       "    .dataframe tbody tr th {\n",
       "        vertical-align: top;\n",
       "    }\n",
       "\n",
       "    .dataframe thead th {\n",
       "        text-align: right;\n",
       "    }\n",
       "</style>\n",
       "<table border=\"1\" class=\"dataframe\">\n",
       "  <thead>\n",
       "    <tr style=\"text-align: right;\">\n",
       "      <th></th>\n",
       "      <th>1st Flr SF</th>\n",
       "      <th>2nd Flr SF</th>\n",
       "      <th>3Ssn Porch</th>\n",
       "      <th>Alley</th>\n",
       "      <th>Bedroom AbvGr</th>\n",
       "      <th>Bldg Type</th>\n",
       "      <th>Bsmt Cond</th>\n",
       "      <th>Bsmt Exposure</th>\n",
       "      <th>Bsmt Full Bath</th>\n",
       "      <th>Bsmt Half Bath</th>\n",
       "      <th>...</th>\n",
       "      <th>Sale Type</th>\n",
       "      <th>Screen Porch</th>\n",
       "      <th>Street</th>\n",
       "      <th>TotRms AbvGrd</th>\n",
       "      <th>Total Bsmt SF</th>\n",
       "      <th>Utilities</th>\n",
       "      <th>Wood Deck SF</th>\n",
       "      <th>Year Built</th>\n",
       "      <th>Year Remod/Add</th>\n",
       "      <th>Yr Sold</th>\n",
       "    </tr>\n",
       "  </thead>\n",
       "  <tbody>\n",
       "    <tr>\n",
       "      <th>0</th>\n",
       "      <td>908</td>\n",
       "      <td>1020</td>\n",
       "      <td>0</td>\n",
       "      <td>Grvl</td>\n",
       "      <td>4</td>\n",
       "      <td>2fmCon</td>\n",
       "      <td>TA</td>\n",
       "      <td>No</td>\n",
       "      <td>0</td>\n",
       "      <td>0</td>\n",
       "      <td>...</td>\n",
       "      <td>WD</td>\n",
       "      <td>0</td>\n",
       "      <td>Pave</td>\n",
       "      <td>9</td>\n",
       "      <td>1020</td>\n",
       "      <td>AllPub</td>\n",
       "      <td>0</td>\n",
       "      <td>1910</td>\n",
       "      <td>1950</td>\n",
       "      <td>2006</td>\n",
       "    </tr>\n",
       "    <tr>\n",
       "      <th>1</th>\n",
       "      <td>1967</td>\n",
       "      <td>0</td>\n",
       "      <td>0</td>\n",
       "      <td>NaN</td>\n",
       "      <td>6</td>\n",
       "      <td>Duplex</td>\n",
       "      <td>TA</td>\n",
       "      <td>No</td>\n",
       "      <td>0</td>\n",
       "      <td>0</td>\n",
       "      <td>...</td>\n",
       "      <td>WD</td>\n",
       "      <td>0</td>\n",
       "      <td>Pave</td>\n",
       "      <td>10</td>\n",
       "      <td>1967</td>\n",
       "      <td>AllPub</td>\n",
       "      <td>170</td>\n",
       "      <td>1977</td>\n",
       "      <td>1977</td>\n",
       "      <td>2006</td>\n",
       "    </tr>\n",
       "    <tr>\n",
       "      <th>2</th>\n",
       "      <td>664</td>\n",
       "      <td>832</td>\n",
       "      <td>0</td>\n",
       "      <td>NaN</td>\n",
       "      <td>3</td>\n",
       "      <td>1Fam</td>\n",
       "      <td>Gd</td>\n",
       "      <td>Av</td>\n",
       "      <td>1</td>\n",
       "      <td>0</td>\n",
       "      <td>...</td>\n",
       "      <td>New</td>\n",
       "      <td>0</td>\n",
       "      <td>Pave</td>\n",
       "      <td>7</td>\n",
       "      <td>654</td>\n",
       "      <td>AllPub</td>\n",
       "      <td>100</td>\n",
       "      <td>2006</td>\n",
       "      <td>2006</td>\n",
       "      <td>2006</td>\n",
       "    </tr>\n",
       "    <tr>\n",
       "      <th>3</th>\n",
       "      <td>968</td>\n",
       "      <td>0</td>\n",
       "      <td>0</td>\n",
       "      <td>NaN</td>\n",
       "      <td>2</td>\n",
       "      <td>1Fam</td>\n",
       "      <td>TA</td>\n",
       "      <td>No</td>\n",
       "      <td>0</td>\n",
       "      <td>0</td>\n",
       "      <td>...</td>\n",
       "      <td>WD</td>\n",
       "      <td>0</td>\n",
       "      <td>Pave</td>\n",
       "      <td>5</td>\n",
       "      <td>968</td>\n",
       "      <td>AllPub</td>\n",
       "      <td>0</td>\n",
       "      <td>1923</td>\n",
       "      <td>2006</td>\n",
       "      <td>2007</td>\n",
       "    </tr>\n",
       "    <tr>\n",
       "      <th>4</th>\n",
       "      <td>1394</td>\n",
       "      <td>0</td>\n",
       "      <td>0</td>\n",
       "      <td>NaN</td>\n",
       "      <td>3</td>\n",
       "      <td>1Fam</td>\n",
       "      <td>TA</td>\n",
       "      <td>No</td>\n",
       "      <td>1</td>\n",
       "      <td>0</td>\n",
       "      <td>...</td>\n",
       "      <td>WD</td>\n",
       "      <td>185</td>\n",
       "      <td>Pave</td>\n",
       "      <td>6</td>\n",
       "      <td>1394</td>\n",
       "      <td>AllPub</td>\n",
       "      <td>0</td>\n",
       "      <td>1963</td>\n",
       "      <td>1963</td>\n",
       "      <td>2009</td>\n",
       "    </tr>\n",
       "  </tbody>\n",
       "</table>\n",
       "<p>5 rows × 80 columns</p>\n",
       "</div>"
      ],
      "text/plain": [
       "   1st Flr SF  2nd Flr SF  3Ssn Porch Alley  Bedroom AbvGr Bldg Type  \\\n",
       "0         908        1020           0  Grvl              4    2fmCon   \n",
       "1        1967           0           0   NaN              6    Duplex   \n",
       "2         664         832           0   NaN              3      1Fam   \n",
       "3         968           0           0   NaN              2      1Fam   \n",
       "4        1394           0           0   NaN              3      1Fam   \n",
       "\n",
       "  Bsmt Cond Bsmt Exposure  Bsmt Full Bath  Bsmt Half Bath  ... Sale Type  \\\n",
       "0        TA            No               0               0  ...       WD    \n",
       "1        TA            No               0               0  ...       WD    \n",
       "2        Gd            Av               1               0  ...       New   \n",
       "3        TA            No               0               0  ...       WD    \n",
       "4        TA            No               1               0  ...       WD    \n",
       "\n",
       "   Screen Porch  Street  TotRms AbvGrd Total Bsmt SF Utilities Wood Deck SF  \\\n",
       "0             0    Pave              9          1020    AllPub            0   \n",
       "1             0    Pave             10          1967    AllPub          170   \n",
       "2             0    Pave              7           654    AllPub          100   \n",
       "3             0    Pave              5           968    AllPub            0   \n",
       "4           185    Pave              6          1394    AllPub            0   \n",
       "\n",
       "  Year Built Year Remod/Add Yr Sold  \n",
       "0       1910           1950    2006  \n",
       "1       1977           1977    2006  \n",
       "2       2006           2006    2006  \n",
       "3       1923           2006    2007  \n",
       "4       1963           1963    2009  \n",
       "\n",
       "[5 rows x 80 columns]"
      ]
     },
     "execution_count": 4,
     "metadata": {},
     "output_type": "execute_result"
    }
   ],
   "source": [
    "# Read in Test CSV for Kaggle\n",
    "df_test = pd.read_csv('../datasets/test.csv')\n",
    "df_test = df_test.reindex(sorted(df_test.columns), axis=1)\n",
    "df_test.head()"
   ]
  },
  {
   "cell_type": "markdown",
   "id": "166f21a9-29ef-4962-9091-e16f3a6264d4",
   "metadata": {},
   "source": [
    "#### Useful for EDA"
   ]
  },
  {
   "cell_type": "code",
   "execution_count": 5,
   "id": "c1396c1a-3e27-41d9-ba77-c7dcb6fbdb5e",
   "metadata": {},
   "outputs": [],
   "source": [
    "# Run to see all columns in df\n",
    "pd.options.display.max_columns = 999\n",
    "pd.options.display.max_rows = 999"
   ]
  },
  {
   "cell_type": "markdown",
   "id": "f8d9f804-f8d5-489d-ace2-09a0bd68de1c",
   "metadata": {},
   "source": [
    "#### Data Cleaning & EDA"
   ]
  },
  {
   "cell_type": "code",
   "execution_count": 6,
   "id": "5044b3cc-0d80-46d8-b3c3-676778aa4b79",
   "metadata": {},
   "outputs": [],
   "source": [
    "# Engineer columns on df\n",
    "\n",
    "df['Garage Area'].fillna(0, inplace=True)\n",
    "df['Garage Cars'].fillna(0, inplace=True)\n",
    "df['Yr Built or Remod'] = df['Year Remod/Add'] * df['Year Built']\n",
    "df['Lot Size House Sqft'] = df['Lot Area'] * df['Gr Liv Area']\n",
    "df['Overall Qual Sq'] = (df['Overall Qual']**2)\n",
    "df['Garage Total'] = df['Garage Area'] * df['Garage Cars']\n",
    "\n",
    "# Engineer columns on df_test\n",
    "\n",
    "df_test['Garage Area'].fillna(0, inplace=True)\n",
    "df_test['Garage Cars'].fillna(0, inplace=True)\n",
    "df_test['Yr Built or Remod'] = df_test['Year Remod/Add'] * df_test['Year Built']\n",
    "df_test['Lot Size House Sqft'] = df_test['Lot Area'] * df_test['Gr Liv Area']\n",
    "df_test['Overall Qual Sq'] = (df_test['Overall Qual']**2)\n",
    "df_test['Garage Total'] = df_test['Garage Area'] * df_test['Garage Cars']"
   ]
  },
  {
   "cell_type": "markdown",
   "id": "6053fec2-a81a-4131-a2cd-d6f9eb514478",
   "metadata": {},
   "source": [
    "#### Modeling"
   ]
  },
  {
   "cell_type": "code",
   "execution_count": 7,
   "id": "fca99177-2616-4f54-9101-fb95b0a3d23d",
   "metadata": {},
   "outputs": [],
   "source": [
    "features = ['Yr Built or Remod','Overall Qual Sq', 'Garage Total']\n",
    "\n",
    "X = df[features]\n",
    "y = df['SalePrice']"
   ]
  },
  {
   "cell_type": "code",
   "execution_count": 8,
   "id": "90ef9d42-5ee1-40a4-acf5-483ac86956c4",
   "metadata": {},
   "outputs": [],
   "source": [
    "# Fitting polynomial model to Training data\n",
    "\n",
    "poly = PolynomialFeatures(include_bias=False)\n",
    "X_poly = poly.fit_transform(X)\n",
    "poly_columns = pd.DataFrame(X_poly, columns=poly.get_feature_names(features))"
   ]
  },
  {
   "cell_type": "code",
   "execution_count": 9,
   "id": "7d2d785a-f57c-43b7-aa67-649030e1f6bb",
   "metadata": {},
   "outputs": [
    {
     "data": {
      "text/html": [
       "<div>\n",
       "<style scoped>\n",
       "    .dataframe tbody tr th:only-of-type {\n",
       "        vertical-align: middle;\n",
       "    }\n",
       "\n",
       "    .dataframe tbody tr th {\n",
       "        vertical-align: top;\n",
       "    }\n",
       "\n",
       "    .dataframe thead th {\n",
       "        text-align: right;\n",
       "    }\n",
       "</style>\n",
       "<table border=\"1\" class=\"dataframe\">\n",
       "  <thead>\n",
       "    <tr style=\"text-align: right;\">\n",
       "      <th></th>\n",
       "      <th>Yr Built or Remod</th>\n",
       "      <th>Overall Qual Sq</th>\n",
       "      <th>Garage Total</th>\n",
       "      <th>Yr Built or Remod^2</th>\n",
       "      <th>Yr Built or Remod Overall Qual Sq</th>\n",
       "      <th>Yr Built or Remod Garage Total</th>\n",
       "      <th>Overall Qual Sq^2</th>\n",
       "      <th>Overall Qual Sq Garage Total</th>\n",
       "      <th>Garage Total^2</th>\n",
       "      <th>Id</th>\n",
       "    </tr>\n",
       "  </thead>\n",
       "  <tbody>\n",
       "    <tr>\n",
       "      <th>0</th>\n",
       "      <td>3724500.0</td>\n",
       "      <td>36.0</td>\n",
       "      <td>440.0</td>\n",
       "      <td>1.387190e+13</td>\n",
       "      <td>134082000.0</td>\n",
       "      <td>1.638780e+09</td>\n",
       "      <td>1296.0</td>\n",
       "      <td>15840.0</td>\n",
       "      <td>193600.0</td>\n",
       "      <td>2658</td>\n",
       "    </tr>\n",
       "    <tr>\n",
       "      <th>1</th>\n",
       "      <td>3908529.0</td>\n",
       "      <td>25.0</td>\n",
       "      <td>1160.0</td>\n",
       "      <td>1.527660e+13</td>\n",
       "      <td>97713225.0</td>\n",
       "      <td>4.533894e+09</td>\n",
       "      <td>625.0</td>\n",
       "      <td>29000.0</td>\n",
       "      <td>1345600.0</td>\n",
       "      <td>2718</td>\n",
       "    </tr>\n",
       "    <tr>\n",
       "      <th>2</th>\n",
       "      <td>4024036.0</td>\n",
       "      <td>49.0</td>\n",
       "      <td>852.0</td>\n",
       "      <td>1.619287e+13</td>\n",
       "      <td>197177764.0</td>\n",
       "      <td>3.428479e+09</td>\n",
       "      <td>2401.0</td>\n",
       "      <td>41748.0</td>\n",
       "      <td>725904.0</td>\n",
       "      <td>2414</td>\n",
       "    </tr>\n",
       "    <tr>\n",
       "      <th>3</th>\n",
       "      <td>3857538.0</td>\n",
       "      <td>25.0</td>\n",
       "      <td>960.0</td>\n",
       "      <td>1.488060e+13</td>\n",
       "      <td>96438450.0</td>\n",
       "      <td>3.703236e+09</td>\n",
       "      <td>625.0</td>\n",
       "      <td>24000.0</td>\n",
       "      <td>921600.0</td>\n",
       "      <td>1989</td>\n",
       "    </tr>\n",
       "    <tr>\n",
       "      <th>4</th>\n",
       "      <td>3853369.0</td>\n",
       "      <td>36.0</td>\n",
       "      <td>1028.0</td>\n",
       "      <td>1.484845e+13</td>\n",
       "      <td>138721284.0</td>\n",
       "      <td>3.961263e+09</td>\n",
       "      <td>1296.0</td>\n",
       "      <td>37008.0</td>\n",
       "      <td>1056784.0</td>\n",
       "      <td>625</td>\n",
       "    </tr>\n",
       "  </tbody>\n",
       "</table>\n",
       "</div>"
      ],
      "text/plain": [
       "   Yr Built or Remod  Overall Qual Sq  Garage Total  Yr Built or Remod^2  \\\n",
       "0          3724500.0             36.0         440.0         1.387190e+13   \n",
       "1          3908529.0             25.0        1160.0         1.527660e+13   \n",
       "2          4024036.0             49.0         852.0         1.619287e+13   \n",
       "3          3857538.0             25.0         960.0         1.488060e+13   \n",
       "4          3853369.0             36.0        1028.0         1.484845e+13   \n",
       "\n",
       "   Yr Built or Remod Overall Qual Sq  Yr Built or Remod Garage Total  \\\n",
       "0                        134082000.0                    1.638780e+09   \n",
       "1                         97713225.0                    4.533894e+09   \n",
       "2                        197177764.0                    3.428479e+09   \n",
       "3                         96438450.0                    3.703236e+09   \n",
       "4                        138721284.0                    3.961263e+09   \n",
       "\n",
       "   Overall Qual Sq^2  Overall Qual Sq Garage Total  Garage Total^2    Id  \n",
       "0             1296.0                       15840.0        193600.0  2658  \n",
       "1              625.0                       29000.0       1345600.0  2718  \n",
       "2             2401.0                       41748.0        725904.0  2414  \n",
       "3              625.0                       24000.0        921600.0  1989  \n",
       "4             1296.0                       37008.0       1056784.0   625  "
      ]
     },
     "execution_count": 9,
     "metadata": {},
     "output_type": "execute_result"
    }
   ],
   "source": [
    "# Fitting polynomial model to Testing data\n",
    "\n",
    "features_test = ['Yr Built or Remod', 'Overall Qual Sq', 'Garage Total']\n",
    "\n",
    "X_before_test = df_test[features_test]\n",
    "\n",
    "poly = PolynomialFeatures(include_bias=False)\n",
    "X_poly_test = poly.fit_transform(X_before_test)\n",
    "X_poly_test_df = pd.DataFrame(X_poly_test, columns=poly.get_feature_names(features_test))\n",
    "featpoly = list(X_poly_test_df)\n",
    "\n",
    "X_after_test = X_poly_test_df[featpoly]\n",
    "\n",
    "X_poly_test_df['Id'] = df_test['Id']\n",
    "X_poly_test_df.head()"
   ]
  },
  {
   "cell_type": "code",
   "execution_count": 10,
   "id": "9782f554-31b5-46d9-902a-b23b17f660d2",
   "metadata": {},
   "outputs": [],
   "source": [
    "# Instantiate the model\n",
    "\n",
    "lr = LinearRegression()"
   ]
  },
  {
   "cell_type": "code",
   "execution_count": 11,
   "id": "ab49f2bc-a51e-4523-96b8-9c3028721ce2",
   "metadata": {},
   "outputs": [],
   "source": [
    "X = poly_columns[featpoly]"
   ]
  },
  {
   "cell_type": "code",
   "execution_count": 12,
   "id": "23631b68-2130-4ec0-b168-14c0c15685e6",
   "metadata": {},
   "outputs": [],
   "source": [
    "# Train, Test, Split\n",
    "\n",
    "X_train, X_validate, y_train, y_validate = train_test_split(X, y, random_state=42)"
   ]
  },
  {
   "cell_type": "code",
   "execution_count": 13,
   "id": "f803b62e-763e-4982-a77d-0e0af4595735",
   "metadata": {},
   "outputs": [
    {
     "data": {
      "text/plain": [
       "LinearRegression()"
      ]
     },
     "execution_count": 13,
     "metadata": {},
     "output_type": "execute_result"
    }
   ],
   "source": [
    "# Fit the model\n",
    "\n",
    "lr.fit(X, y)"
   ]
  },
  {
   "cell_type": "code",
   "execution_count": 14,
   "id": "c6eb8897-d21c-4b34-b6a3-e164922fbe3f",
   "metadata": {},
   "outputs": [
    {
     "data": {
      "text/plain": [
       "0.7534886428438999"
      ]
     },
     "execution_count": 14,
     "metadata": {},
     "output_type": "execute_result"
    }
   ],
   "source": [
    "# Train Score\n",
    "\n",
    "lr.score(X_train, y_train)"
   ]
  },
  {
   "cell_type": "code",
   "execution_count": 15,
   "id": "f83eb7a3-25c6-4c7f-b2ba-88b5eafc2b68",
   "metadata": {},
   "outputs": [
    {
     "data": {
      "text/plain": [
       "0.7929373331008378"
      ]
     },
     "execution_count": 15,
     "metadata": {},
     "output_type": "execute_result"
    }
   ],
   "source": [
    "# Test Score\n",
    "\n",
    "lr.score(X_validate, y_validate)"
   ]
  },
  {
   "cell_type": "code",
   "execution_count": 16,
   "id": "4b244887-4b88-4638-bbc5-7f50e4e8b0d0",
   "metadata": {},
   "outputs": [
    {
     "data": {
      "text/plain": [
       "0.7434697996292454"
      ]
     },
     "execution_count": 16,
     "metadata": {},
     "output_type": "execute_result"
    }
   ],
   "source": [
    "# Cross-Val-score\n",
    "\n",
    "cross_val_score(lr, X_train, y_train).mean()"
   ]
  },
  {
   "cell_type": "markdown",
   "id": "8ccd9b3d-53d2-40dd-9711-b77bee8237a0",
   "metadata": {
    "tags": []
   },
   "source": [
    "#### Predictions"
   ]
  },
  {
   "cell_type": "code",
   "execution_count": 17,
   "id": "53f9279b-0581-4d18-81ff-e56f11f09ca4",
   "metadata": {
    "tags": []
   },
   "outputs": [],
   "source": [
    "preds = lr.predict(X_validate)\n",
    "preds;"
   ]
  },
  {
   "cell_type": "code",
   "execution_count": 18,
   "id": "a6e062b7-14b7-4dcc-a018-e650a9287c9c",
   "metadata": {
    "tags": []
   },
   "outputs": [],
   "source": [
    "# Residuals\n",
    "residuals = y_validate - preds"
   ]
  },
  {
   "cell_type": "code",
   "execution_count": 19,
   "id": "937944e0-9952-4738-b1f0-321c0fced4f9",
   "metadata": {
    "tags": []
   },
   "outputs": [
    {
     "data": {
      "image/png": "[encoded data removed]",
      "text/plain": [
       "<Figure size 432x288 with 1 Axes>"
      ]
     },
     "metadata": {
      "needs_background": "light"
     },
     "output_type": "display_data"
    }
   ],
   "source": [
    "# Plot residuals to evaluate Epsilon (irreducable error)\n",
    "\n",
    "plt.axhline(y=0, color='r')\n",
    "sns.scatterplot(x = preds, y = residuals)\n",
    "plt.xlabel('Predicted Sale Price')\n",
    "plt.ylabel('Residuals')\n",
    "plt.title('Residual Plot showing Reducable Error');"
   ]
  },
  {
   "cell_type": "code",
   "execution_count": 20,
   "id": "12ed089e-fcf1-4480-93fd-001af94fab11",
   "metadata": {
    "tags": []
   },
   "outputs": [
    {
     "data": {
      "text/plain": [
       "1399.96950965899"
      ]
     },
     "execution_count": 20,
     "metadata": {},
     "output_type": "execute_result"
    },
    {
     "data": {
      "image/png": "[encoded data removed]",
      "text/plain": [
       "<Figure size 432x288 with 1 Axes>"
      ]
     },
     "metadata": {
      "needs_background": "light"
     },
     "output_type": "display_data"
    }
   ],
   "source": [
    "# Hist of residuals\n",
    "plt.hist(residuals)\n",
    "residuals.mean()"
   ]
  },
  {
   "cell_type": "markdown",
   "id": "da03ea02-b436-40e9-9af5-f7cca0904697",
   "metadata": {},
   "source": [
    "#### Modify Test Using Poly from Above"
   ]
  },
  {
   "cell_type": "code",
   "execution_count": 21,
   "id": "c8e9b748-7e2b-44ba-b87f-d6a3578a8d3d",
   "metadata": {},
   "outputs": [
    {
     "data": {
      "text/plain": [
       "(878, 10)"
      ]
     },
     "execution_count": 21,
     "metadata": {},
     "output_type": "execute_result"
    }
   ],
   "source": [
    "X_poly_test_df.shape"
   ]
  },
  {
   "cell_type": "code",
   "execution_count": 22,
   "id": "48489f97-3023-4aa1-9094-78904967f8a5",
   "metadata": {
    "tags": []
   },
   "outputs": [],
   "source": [
    "test_preds = lr.predict(X_poly_test_df[featpoly])\n",
    "test_preds;"
   ]
  },
  {
   "cell_type": "code",
   "execution_count": 23,
   "id": "543e91d9-cb5b-4921-950b-6caedf86a5e4",
   "metadata": {},
   "outputs": [],
   "source": [
    "# Create target column (SalePrice) in df_test df\n",
    "X_poly_test_df['SalePrice'] = test_preds"
   ]
  },
  {
   "cell_type": "code",
   "execution_count": 24,
   "id": "9aa2604d-79f6-47c7-9bfe-0133c98e414d",
   "metadata": {},
   "outputs": [
    {
     "data": {
      "text/plain": [
       "count       878.000000\n",
       "mean     178224.945022\n",
       "std       66123.366306\n",
       "min       72550.287568\n",
       "25%      129865.519418\n",
       "50%      167759.943782\n",
       "75%      208336.682824\n",
       "max      477490.754430\n",
       "Name: SalePrice, dtype: float64"
      ]
     },
     "execution_count": 24,
     "metadata": {},
     "output_type": "execute_result"
    }
   ],
   "source": [
    "X_poly_test_df['SalePrice'].describe()"
   ]
  },
  {
   "cell_type": "code",
   "execution_count": 25,
   "id": "79252c55-0a96-4e7e-b322-20b73ba5aa4e",
   "metadata": {},
   "outputs": [],
   "source": [
    "kaggle_submission = X_poly_test_df[['Id', 'SalePrice']]"
   ]
  },
  {
   "cell_type": "code",
   "execution_count": 26,
   "id": "6596782a-ac36-401d-9ca0-7d5b45c7daac",
   "metadata": {},
   "outputs": [
    {
     "data": {
      "text/html": [
       "<div>\n",
       "<style scoped>\n",
       "    .dataframe tbody tr th:only-of-type {\n",
       "        vertical-align: middle;\n",
       "    }\n",
       "\n",
       "    .dataframe tbody tr th {\n",
       "        vertical-align: top;\n",
       "    }\n",
       "\n",
       "    .dataframe thead th {\n",
       "        text-align: right;\n",
       "    }\n",
       "</style>\n",
       "<table border=\"1\" class=\"dataframe\">\n",
       "  <thead>\n",
       "    <tr style=\"text-align: right;\">\n",
       "      <th></th>\n",
       "      <th>Id</th>\n",
       "      <th>SalePrice</th>\n",
       "    </tr>\n",
       "  </thead>\n",
       "  <tbody>\n",
       "    <tr>\n",
       "      <th>0</th>\n",
       "      <td>2658</td>\n",
       "      <td>122893.124715</td>\n",
       "    </tr>\n",
       "    <tr>\n",
       "      <th>1</th>\n",
       "      <td>2718</td>\n",
       "      <td>153402.720126</td>\n",
       "    </tr>\n",
       "    <tr>\n",
       "      <th>2</th>\n",
       "      <td>2414</td>\n",
       "      <td>200794.277387</td>\n",
       "    </tr>\n",
       "    <tr>\n",
       "      <th>3</th>\n",
       "      <td>1989</td>\n",
       "      <td>143424.437421</td>\n",
       "    </tr>\n",
       "    <tr>\n",
       "      <th>4</th>\n",
       "      <td>625</td>\n",
       "      <td>168757.960339</td>\n",
       "    </tr>\n",
       "  </tbody>\n",
       "</table>\n",
       "</div>"
      ],
      "text/plain": [
       "     Id      SalePrice\n",
       "0  2658  122893.124715\n",
       "1  2718  153402.720126\n",
       "2  2414  200794.277387\n",
       "3  1989  143424.437421\n",
       "4   625  168757.960339"
      ]
     },
     "execution_count": 26,
     "metadata": {},
     "output_type": "execute_result"
    }
   ],
   "source": [
    "kaggle_submission.head()"
   ]
  },
  {
   "cell_type": "code",
   "execution_count": 27,
   "id": "2de22166-ad0a-4d7d-97ca-01d45fa22f57",
   "metadata": {},
   "outputs": [],
   "source": [
    "kaggle_submission.set_index('Id', inplace=True)"
   ]
  },
  {
   "cell_type": "code",
   "execution_count": 28,
   "id": "2be1221d-4daf-4bfb-acb2-d86fdf5384b1",
   "metadata": {},
   "outputs": [
    {
     "data": {
      "text/html": [
       "<div>\n",
       "<style scoped>\n",
       "    .dataframe tbody tr th:only-of-type {\n",
       "        vertical-align: middle;\n",
       "    }\n",
       "\n",
       "    .dataframe tbody tr th {\n",
       "        vertical-align: top;\n",
       "    }\n",
       "\n",
       "    .dataframe thead th {\n",
       "        text-align: right;\n",
       "    }\n",
       "</style>\n",
       "<table border=\"1\" class=\"dataframe\">\n",
       "  <thead>\n",
       "    <tr style=\"text-align: right;\">\n",
       "      <th></th>\n",
       "      <th>SalePrice</th>\n",
       "    </tr>\n",
       "    <tr>\n",
       "      <th>Id</th>\n",
       "      <th></th>\n",
       "    </tr>\n",
       "  </thead>\n",
       "  <tbody>\n",
       "    <tr>\n",
       "      <th>2658</th>\n",
       "      <td>122893.124715</td>\n",
       "    </tr>\n",
       "    <tr>\n",
       "      <th>2718</th>\n",
       "      <td>153402.720126</td>\n",
       "    </tr>\n",
       "    <tr>\n",
       "      <th>2414</th>\n",
       "      <td>200794.277387</td>\n",
       "    </tr>\n",
       "    <tr>\n",
       "      <th>1989</th>\n",
       "      <td>143424.437421</td>\n",
       "    </tr>\n",
       "    <tr>\n",
       "      <th>625</th>\n",
       "      <td>168757.960339</td>\n",
       "    </tr>\n",
       "  </tbody>\n",
       "</table>\n",
       "</div>"
      ],
      "text/plain": [
       "          SalePrice\n",
       "Id                 \n",
       "2658  122893.124715\n",
       "2718  153402.720126\n",
       "2414  200794.277387\n",
       "1989  143424.437421\n",
       "625   168757.960339"
      ]
     },
     "execution_count": 28,
     "metadata": {},
     "output_type": "execute_result"
    }
   ],
   "source": [
    "kaggle_submission.head()"
   ]
  },
  {
   "cell_type": "code",
   "execution_count": 29,
   "id": "4b4f521e-4949-4d4b-93d1-bb6a4736c1a5",
   "metadata": {},
   "outputs": [],
   "source": [
    "# Save Kaggle Submission to CSV\n",
    "\n",
    "kaggle_submission.to_csv(f'../kaggle_submissions/model_{modelnum}.csv')"
   ]
  },
  {
   "cell_type": "code",
   "execution_count": 30,
   "id": "9f2e2c5c-d27c-4726-941c-471a41ab296f",
   "metadata": {},
   "outputs": [],
   "source": [
    "# Save df to CSV\n",
    "\n",
    "df[features].to_csv(f'../clean_data/model_{modelnum}.csv', index=0)"
   ]
  }
 ],
 "metadata": {
  "kernelspec": {
   "display_name": "Python 3 (ipykernel)",
   "language": "python",
   "name": "python3"
  },
  "language_info": {
   "codemirror_mode": {
    "name": "ipython",
    "version": 3
   },
   "file_extension": ".py",
   "mimetype": "text/x-python",
   "name": "python",
   "nbconvert_exporter": "python",
   "pygments_lexer": "ipython3",
   "version": "3.9.7"
  }
 },
 "nbformat": 4,
 "nbformat_minor": 5
}
