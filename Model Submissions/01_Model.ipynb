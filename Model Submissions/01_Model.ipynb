{
 "cells": [
  {
   "cell_type": "code",
   "execution_count": null,
   "id": "7c9e4598-6c95-4b36-88fc-96396c08cf12",
   "metadata": {},
   "outputs": [],
   "source": [
    "# import libraries\n",
    "import pandas as pd\n",
    "import numpy as np\n",
    "import matplotlib.pyplot as plt\n",
    "import seaborn as sns\n",
    "\n",
    "from sklearn.linear_model import LinearRegression\n",
    "from sklearn.model_selection import train_test_split, cross_val_score"
   ]
  },
  {
   "cell_type": "code",
   "execution_count": null,
   "id": "f699f27b-9191-4d65-bbcc-051010a5e805",
   "metadata": {},
   "outputs": [],
   "source": [
    "# Used in Kaggle submission\n",
    "modelnum = 'one'"
   ]
  },
  {
   "cell_type": "code",
   "execution_count": null,
   "id": "a14afeff-2750-4e1a-a451-96235c40458f",
   "metadata": {},
   "outputs": [],
   "source": [
    "# read in Training csv\n",
    "df = pd.read_csv('../datasets/train.csv')\n",
    "df = df.reindex(sorted(df.columns), axis=1)\n",
    "df.head()"
   ]
  },
  {
   "cell_type": "code",
   "execution_count": null,
   "id": "81140bb4-9de8-4b39-87b3-d1009b899ba8",
   "metadata": {},
   "outputs": [],
   "source": [
    "# Read in Test CSV for Kaggle\n",
    "df_test = pd.read_csv('../datasets/test.csv')\n",
    "df_test = df_test.reindex(sorted(df_test.columns), axis=1)\n",
    "df_test.head()"
   ]
  },
  {
   "cell_type": "markdown",
   "id": "22b28344-745a-4904-8665-f679a11ad1d1",
   "metadata": {},
   "source": [
    "### Useful for EDA"
   ]
  },
  {
   "cell_type": "code",
   "execution_count": null,
   "id": "7c348390-f61f-432e-95bc-0d0b853303d0",
   "metadata": {},
   "outputs": [],
   "source": [
    "pd.options.display.max_columns = 999"
   ]
  },
  {
   "cell_type": "code",
   "execution_count": null,
   "id": "f33dc596-beb3-4870-bb47-d3c0161a1a45",
   "metadata": {
    "tags": []
   },
   "outputs": [],
   "source": [
    "df._get_numeric_data().isnull().sum()"
   ]
  },
  {
   "cell_type": "code",
   "execution_count": null,
   "id": "1787ae3a-e186-43ac-9ac1-8f424d1b9c0f",
   "metadata": {},
   "outputs": [],
   "source": [
    "# Set features equal to Features that I want to model\n",
    "# Set X = features\n",
    "# Set y = what we'd like to predict\n",
    "\n",
    "features = ['Overall Cond', '1st Flr SF']\n",
    "\n",
    "X = df[features]\n",
    "y = df['SalePrice']"
   ]
  },
  {
   "cell_type": "code",
   "execution_count": null,
   "id": "9782f554-31b5-46d9-902a-b23b17f660d2",
   "metadata": {},
   "outputs": [],
   "source": [
    "# Instantiate the model\n",
    "\n",
    "lr = LinearRegression()"
   ]
  },
  {
   "cell_type": "markdown",
   "id": "d1da1b83-5265-4fbb-bc98-0c760ea71b5c",
   "metadata": {},
   "source": [
    "#### If this score sucks, do not proceed"
   ]
  },
  {
   "cell_type": "code",
   "execution_count": null,
   "id": "9ff9dff0-fdb3-48da-acf1-7552d632094e",
   "metadata": {},
   "outputs": [],
   "source": [
    "# Cross-Val-score\n",
    "\n",
    "cross_val_score(lr, X, y).mean()"
   ]
  },
  {
   "cell_type": "code",
   "execution_count": null,
   "id": "f803b62e-763e-4982-a77d-0e0af4595735",
   "metadata": {},
   "outputs": [],
   "source": [
    "# Fit the model\n",
    "\n",
    "lr.fit(X, y)"
   ]
  },
  {
   "cell_type": "code",
   "execution_count": null,
   "id": "23631b68-2130-4ec0-b168-14c0c15685e6",
   "metadata": {},
   "outputs": [],
   "source": [
    "# Train, Test, Split\n",
    "\n",
    "X_train, X_validate, y_train, y_validate = train_test_split(X, y, random_state=32)\n"
   ]
  },
  {
   "cell_type": "code",
   "execution_count": null,
   "id": "f6888a7a-a5d2-4f3b-8d45-a33cc6cdb4e6",
   "metadata": {},
   "outputs": [],
   "source": [
    "# Ensure 75%/25% split\n",
    "\n",
    "X_train.shape"
   ]
  },
  {
   "cell_type": "code",
   "execution_count": null,
   "id": "c0e28b70-3edc-43b6-91b1-78924b0dda32",
   "metadata": {},
   "outputs": [],
   "source": [
    "# Ensure 75%/25% split\n",
    "\n",
    "X_validate.shape"
   ]
  },
  {
   "cell_type": "code",
   "execution_count": null,
   "id": "c6eb8897-d21c-4b34-b6a3-e164922fbe3f",
   "metadata": {},
   "outputs": [],
   "source": [
    "# Train Score\n",
    "\n",
    "lr.score(X_train, y_train)"
   ]
  },
  {
   "cell_type": "code",
   "execution_count": null,
   "id": "f83eb7a3-25c6-4c7f-b2ba-88b5eafc2b68",
   "metadata": {},
   "outputs": [],
   "source": [
    "# Test Score\n",
    "\n",
    "lr.score(X_validate, y_validate)"
   ]
  },
  {
   "cell_type": "code",
   "execution_count": null,
   "id": "4b244887-4b88-4638-bbc5-7f50e4e8b0d0",
   "metadata": {},
   "outputs": [],
   "source": [
    "# Cross-Val-score\n",
    "\n",
    "cross_val_score(lr, X_train, y_train).mean()"
   ]
  },
  {
   "cell_type": "code",
   "execution_count": null,
   "id": "392f6cad-4ee4-4115-8147-4f1490bba4ba",
   "metadata": {},
   "outputs": [],
   "source": [
    "# R2 score for the Baseline model is 0"
   ]
  },
  {
   "cell_type": "code",
   "execution_count": null,
   "id": "b1e294cf-fbea-4fc4-a887-f83a871557db",
   "metadata": {},
   "outputs": [],
   "source": [
    "# Baseline Model - in dollars\n",
    "baseline = y.mean()\n",
    "baseline"
   ]
  },
  {
   "cell_type": "code",
   "execution_count": null,
   "id": "53f9279b-0581-4d18-81ff-e56f11f09ca4",
   "metadata": {},
   "outputs": [],
   "source": [
    "preds = lr.predict(X)\n",
    "preds"
   ]
  },
  {
   "cell_type": "code",
   "execution_count": null,
   "id": "a6e062b7-14b7-4dcc-a018-e650a9287c9c",
   "metadata": {},
   "outputs": [],
   "source": [
    "# Residuals - Actual minus predictions\n",
    "residuals = y - preds"
   ]
  },
  {
   "cell_type": "code",
   "execution_count": null,
   "id": "937944e0-9952-4738-b1f0-321c0fced4f9",
   "metadata": {},
   "outputs": [],
   "source": [
    "# Plot residuals to evaluate Epsilon (irreducable error)\n",
    "\n",
    "plt.axhline(y=0, color='r')\n",
    "sns.scatterplot(preds, residuals)\n",
    "plt.ylabel('Predicted Sale Price')\n",
    "plt.xlabel('Residuals');"
   ]
  },
  {
   "cell_type": "code",
   "execution_count": null,
   "id": "c5e64d47-13da-4aed-a48d-78b68054f6d0",
   "metadata": {},
   "outputs": [],
   "source": [
    "residuals.sort_values()"
   ]
  },
  {
   "cell_type": "code",
   "execution_count": null,
   "id": "f52cf7da-0e74-475e-92f6-649f3f94ddf7",
   "metadata": {},
   "outputs": [],
   "source": [
    "X.loc[[1885, 960, 616, 1023, 1656]]"
   ]
  },
  {
   "cell_type": "code",
   "execution_count": null,
   "id": "a0a4037f-1a59-4e02-a116-d22b71333935",
   "metadata": {},
   "outputs": [],
   "source": [
    "preds[1885]"
   ]
  },
  {
   "cell_type": "code",
   "execution_count": null,
   "id": "12ed089e-fcf1-4480-93fd-001af94fab11",
   "metadata": {},
   "outputs": [],
   "source": [
    "# Hist of residuals\n",
    "plt.hist(residuals);"
   ]
  },
  {
   "cell_type": "code",
   "execution_count": null,
   "id": "d6148e29-df9c-4e15-9bf4-e6088b772535",
   "metadata": {},
   "outputs": [],
   "source": [
    "# Read in Test CSV for Kaggle\n",
    "df_test = pd.read_csv('../../datasets/test.csv')\n",
    "df_test.head()"
   ]
  },
  {
   "cell_type": "code",
   "execution_count": null,
   "id": "48489f97-3023-4aa1-9094-78904967f8a5",
   "metadata": {
    "tags": []
   },
   "outputs": [],
   "source": [
    "test_preds = lr.predict(df_test[features])\n",
    "test_preds"
   ]
  },
  {
   "cell_type": "code",
   "execution_count": null,
   "id": "afea715f-7a49-428c-b28c-47cbfb197766",
   "metadata": {},
   "outputs": [],
   "source": [
    "test_preds.shape"
   ]
  },
  {
   "cell_type": "code",
   "execution_count": null,
   "id": "543e91d9-cb5b-4921-950b-6caedf86a5e4",
   "metadata": {},
   "outputs": [],
   "source": [
    "# Create target column (SalePrice) in df_test df\n",
    "df_test['SalePrice'] = test_preds"
   ]
  },
  {
   "cell_type": "code",
   "execution_count": null,
   "id": "9aa2604d-79f6-47c7-9bfe-0133c98e414d",
   "metadata": {},
   "outputs": [],
   "source": [
    "df_test.head()"
   ]
  },
  {
   "cell_type": "code",
   "execution_count": null,
   "id": "79252c55-0a96-4e7e-b322-20b73ba5aa4e",
   "metadata": {},
   "outputs": [],
   "source": [
    "submission_one = df_test[['Id', 'SalePrice']]"
   ]
  },
  {
   "cell_type": "code",
   "execution_count": null,
   "id": "6596782a-ac36-401d-9ca0-7d5b45c7daac",
   "metadata": {},
   "outputs": [],
   "source": [
    "submission_one.head()"
   ]
  },
  {
   "cell_type": "code",
   "execution_count": null,
   "id": "2de22166-ad0a-4d7d-97ca-01d45fa22f57",
   "metadata": {},
   "outputs": [],
   "source": [
    "submission_one.set_index('Id', inplace=True)"
   ]
  },
  {
   "cell_type": "code",
   "execution_count": null,
   "id": "2be1221d-4daf-4bfb-acb2-d86fdf5384b1",
   "metadata": {},
   "outputs": [],
   "source": [
    "submission_one.head()"
   ]
  },
  {
   "cell_type": "code",
   "execution_count": null,
   "id": "4b4f521e-4949-4d4b-93d1-bb6a4736c1a5",
   "metadata": {},
   "outputs": [],
   "source": [
    "# Save Submission to CSV\n",
    "submission_one.to_csv('../../kaggle_submissions/ffsqft_overallcond.csv')"
   ]
  },
  {
   "cell_type": "code",
   "execution_count": null,
   "id": "9f2e2c5c-d27c-4726-941c-471a41ab296f",
   "metadata": {},
   "outputs": [],
   "source": []
  }
 ],
 "metadata": {
  "kernelspec": {
   "display_name": "Python 3 (ipykernel)",
   "language": "python",
   "name": "python3"
  },
  "language_info": {
   "codemirror_mode": {
    "name": "ipython",
    "version": 3
   },
   "file_extension": ".py",
   "mimetype": "text/x-python",
   "name": "python",
   "nbconvert_exporter": "python",
   "pygments_lexer": "ipython3",
   "version": "3.9.7"
  }
 },
 "nbformat": 4,
 "nbformat_minor": 5
}
